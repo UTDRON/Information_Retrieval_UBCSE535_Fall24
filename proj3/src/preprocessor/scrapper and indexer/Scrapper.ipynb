{
 "cells": [
  {
   "cell_type": "code",
   "execution_count": null,
   "id": "de136a48",
   "metadata": {},
   "outputs": [],
   "source": [
    "import wikipedia\n",
    "import re\n",
    "import pandas as pd\n",
    "import json\n",
    "from copy import deepcopy\n",
    "from concurrent.futures import ThreadPoolExecutor, as_completed"
   ]
  },
  {
   "cell_type": "raw",
   "id": "32e93a19-5ded-40fe-8b08-70ab55cd40f7",
   "metadata": {},
   "source": [
    "print(wikipedia.summary(\"Wikipedia\"))"
   ]
  },
  {
   "cell_type": "code",
   "execution_count": 2,
   "id": "95eed4ed-8ac0-4755-8ed4-d12764f80b29",
   "metadata": {},
   "outputs": [],
   "source": [
    "topic_names = [\"Health\",\n",
    "              \"Environment\",\n",
    "              \"Technology\",\n",
    "              \"Economy\",\n",
    "              \"Entertainment\",\n",
    "              \"Sports\",\n",
    "              \"Politics\",\n",
    "              \"Education\",\n",
    "              \"Travel\",\n",
    "              \"Food\"\n",
    "]"
   ]
  },
  {
   "cell_type": "code",
   "execution_count": 3,
   "id": "0cf41a61-3143-4f77-8e37-797a565d6cc7",
   "metadata": {},
   "outputs": [
    {
     "name": "stdout",
     "output_type": "stream",
     "text": [
      "500, 500, 500, 500, 500, 500, 500, 500, 500, 500, "
     ]
    }
   ],
   "source": [
    "search_results = {}\n",
    "for i in range(10):\n",
    "    search_result = wikipedia.search(topic_names[i], results=1000)\n",
    "    search_results[topic_names[i]] = search_result\n",
    "    print(len(search_result),end=\", \")"
   ]
  },
  {
   "cell_type": "markdown",
   "id": "3db7240f-5dd5-4d01-835d-97a38b73911b",
   "metadata": {},
   "source": [
    "## Remove non-alphanumeric characters"
   ]
  },
  {
   "cell_type": "code",
   "execution_count": 4,
   "id": "4694b00d-4711-4537-a4cf-a411edc15235",
   "metadata": {},
   "outputs": [],
   "source": [
    "def clean_text(text):\n",
    "    cleaned_text = re.sub(r'[^a-zA-Z0-9 ]', ' ', text)\n",
    "    cleaned_text = re.sub(r'\\s+', ' ', cleaned_text)\n",
    "    cleaned_text = cleaned_text.strip()\n",
    "    return cleaned_text\n",
    "\n",
    "def show_count(search_results):\n",
    "    for key in search_results:\n",
    "        print(len(search_results[key]),end=\", \")"
   ]
  },
  {
   "cell_type": "markdown",
   "id": "28a27aec-0565-440d-8a6d-82fce7704e07",
   "metadata": {},
   "source": [
    "## Get more pages from embedded links\n",
    "## Its the same script as Project1 with just numbers changed"
   ]
  },
  {
   "cell_type": "code",
   "execution_count": null,
   "id": "0d889663-3f6f-4387-a44c-0d4a6db97d4b",
   "metadata": {
    "scrolled": true
   },
   "outputs": [],
   "source": [
    "for key in search_results:\n",
    "    len_counter = 0\n",
    "    while len(search_results[key]) <= 10000 and len_counter < len(search_results[key]):\n",
    "        try:\n",
    "            content = wikipedia.page(search_results[key][len_counter])#, auto_suggest=False)\n",
    "        except Exception as e:\n",
    "            print(e)\n",
    "            len_counter += 1\n",
    "            continue\n",
    "        search_results[key].extend(content.links[:(7-len(search_results[key]))])\n",
    "        len_counter += 1\n",
    "show_count(search_results)"
   ]
  },
  {
   "cell_type": "markdown",
   "id": "f9c0c247-5f67-4d18-8e36-14936f29f0e3",
   "metadata": {},
   "source": [
    "## Removing duplicate topics"
   ]
  },
  {
   "cell_type": "code",
   "execution_count": null,
   "id": "dc87a75f-c1a6-49e6-986b-bac874c9f4c7",
   "metadata": {},
   "outputs": [],
   "source": [
    "search_results2 = deepcopy(search_results)\n",
    "for i in range(9):\n",
    "    for j in range(i+1, 10):\n",
    "        search_results2[topic_names[j]] = list(set(search_results2[topic_names[j]]) - set(search_results2[topic_names[i]]))\n",
    "show_count(search_results2)"
   ]
  },
  {
   "cell_type": "markdown",
   "id": "c1e52531-6f63-4d9c-b8f9-364b7ef951ea",
   "metadata": {},
   "source": [
    "## Extracting title, revision_id, summary, url and topic from each pages ensuring \"summary length\" and \"preprocessing\" requirements"
   ]
  },
  {
   "cell_type": "markdown",
   "id": "ba434e2b-6cd5-48bb-84c7-a4e24e7030e6",
   "metadata": {},
   "source": [
    "### This script takes 3 hrs(with 10 threads) to extract contents of all(almost 100000) pages; the output(document {}) has been persisted into a file(document.json) and this section of code is marked as Raw"
   ]
  },
  {
   "cell_type": "raw",
   "id": "cc95bfc4-d44d-422a-847d-0387811de38e",
   "metadata": {
    "scrolled": true,
    "vscode": {
     "languageId": "raw"
    }
   },
   "source": [
    "# document = {}\n",
    "# document = []\n",
    "# for key in search_results:\n",
    "#     # document[key] = []\n",
    "#     for page in search_results[key]:\n",
    "#         try:\n",
    "#             content = wikipedia.page(page, auto_suggest=True)\n",
    "#             cleaned_content_summary = clean_text(content.summary)\n",
    "#             if len(cleaned_content_summary) > 200:\n",
    "#                 document.append({\n",
    "#                     'title': content.title,\n",
    "#                     'revision_id': content.revision_id,\n",
    "#                     'summary': cleaned_content_summary,\n",
    "#                     'url': content.url,\n",
    "#                     'topic': key\n",
    "#                 }) \n",
    "#                 # document[key].append({\n",
    "#                 #     'title': content.title,\n",
    "#                 #     'revision_id': content.revision_id,\n",
    "#                 #     'summary': cleaned_content_summary,\n",
    "#                 #     'url': content.url,\n",
    "#                 #     'topic': key\n",
    "#                 # }) \n",
    "#         except Exception as e:\n",
    "#             print(e)\n",
    "#             continue\n",
    "\n",
    "def fetch_wikipedia_page(topic_key, page_title):\n",
    "    try:\n",
    "        content = wikipedia.page(page_title, auto_suggest=False)\n",
    "        cleaned_content_summary = clean_text(content.summary)\n",
    "        if len(cleaned_content_summary) > 200:\n",
    "            return {\n",
    "                'title': content.title,\n",
    "                'revision_id': content.revision_id,\n",
    "                'summary': cleaned_content_summary,\n",
    "                'url': content.url,\n",
    "                'topic': topic_key\n",
    "            }\n",
    "    except Exception as e:\n",
    "        print(f\"Error processing {page_title}: {e}\")\n",
    "    return None\n",
    "\n",
    "def process_search_results(search_results):\n",
    "    document = []\n",
    "    tasks = []\n",
    "\n",
    "    with ThreadPoolExecutor(max_workers=10) as executor:\n",
    "        for key, pages in search_results.items():\n",
    "            for page in pages:\n",
    "                tasks.append(executor.submit(fetch_wikipedia_page, key, page))\n",
    "\n",
    "        for future in as_completed(tasks):\n",
    "            result = future.result()\n",
    "            if result:\n",
    "                document.append(result)\n",
    "\n",
    "    return document\n",
    "\n",
    "document = process_search_results(search_results2)\n",
    "\n",
    "with open(\"document.json\", \"w\", encoding=\"utf-8\") as json_file:\n",
    "    json.dump(document, json_file, indent=4)"
   ]
  },
  {
   "cell_type": "markdown",
   "id": "14cbe18d-7177-4acd-8102-a08d3ff56d66",
   "metadata": {},
   "source": [
    "## Saving to a file"
   ]
  },
  {
   "cell_type": "raw",
   "id": "6ea6f537-8dba-4263-98d2-ac054a6478da",
   "metadata": {},
   "source": [
    "with open('document.json', 'w') as json_file:\n",
    "    json.dump(document, json_file, indent=4)"
   ]
  },
  {
   "cell_type": "code",
   "execution_count": 5,
   "id": "59e35eba-6809-408c-b53d-9f5f8c26ae27",
   "metadata": {},
   "outputs": [
    {
     "data": {
      "text/html": [
       "<div>\n",
       "<style scoped>\n",
       "    .dataframe tbody tr th:only-of-type {\n",
       "        vertical-align: middle;\n",
       "    }\n",
       "\n",
       "    .dataframe tbody tr th {\n",
       "        vertical-align: top;\n",
       "    }\n",
       "\n",
       "    .dataframe thead th {\n",
       "        text-align: right;\n",
       "    }\n",
       "</style>\n",
       "<table border=\"1\" class=\"dataframe\">\n",
       "  <thead>\n",
       "    <tr style=\"text-align: right;\">\n",
       "      <th></th>\n",
       "      <th>title</th>\n",
       "      <th>revision_id</th>\n",
       "      <th>summary</th>\n",
       "      <th>url</th>\n",
       "      <th>topic</th>\n",
       "    </tr>\n",
       "  </thead>\n",
       "  <tbody>\n",
       "    <tr>\n",
       "      <th>0</th>\n",
       "      <td>Death</td>\n",
       "      <td>1246577393</td>\n",
       "      <td>Death is the end of life the irreversible cess...</td>\n",
       "      <td>https://en.wikipedia.org/wiki/Death</td>\n",
       "      <td>Health</td>\n",
       "    </tr>\n",
       "    <tr>\n",
       "      <th>1</th>\n",
       "      <td>Health (film)</td>\n",
       "      <td>1243692893</td>\n",
       "      <td>HealtH also known as Health and H E A L T H is...</td>\n",
       "      <td>https://en.wikipedia.org/wiki/Health_(film)</td>\n",
       "      <td>Health</td>\n",
       "    </tr>\n",
       "    <tr>\n",
       "      <th>2</th>\n",
       "      <td>Health care</td>\n",
       "      <td>1246665256</td>\n",
       "      <td>Health care or healthcare is the improvement o...</td>\n",
       "      <td>https://en.wikipedia.org/wiki/Health_care</td>\n",
       "      <td>Health</td>\n",
       "    </tr>\n",
       "    <tr>\n",
       "      <th>3</th>\n",
       "      <td>Mental health</td>\n",
       "      <td>1247121910</td>\n",
       "      <td>Mental health encompasses emotional psychologi...</td>\n",
       "      <td>https://en.wikipedia.org/wiki/Mental_health</td>\n",
       "      <td>Health</td>\n",
       "    </tr>\n",
       "    <tr>\n",
       "      <th>4</th>\n",
       "      <td>World Health Organization</td>\n",
       "      <td>1242561907</td>\n",
       "      <td>The World Health Organization WHO is a special...</td>\n",
       "      <td>https://en.wikipedia.org/wiki/World_Health_Org...</td>\n",
       "      <td>Health</td>\n",
       "    </tr>\n",
       "    <tr>\n",
       "      <th>5</th>\n",
       "      <td>Public health</td>\n",
       "      <td>1247277913</td>\n",
       "      <td>Public health is the science and art of preven...</td>\n",
       "      <td>https://en.wikipedia.org/wiki/Public_health</td>\n",
       "      <td>Health</td>\n",
       "    </tr>\n",
       "    <tr>\n",
       "      <th>6</th>\n",
       "      <td>Health system</td>\n",
       "      <td>1235311875</td>\n",
       "      <td>A health system health care system or healthca...</td>\n",
       "      <td>https://en.wikipedia.org/wiki/Health_system</td>\n",
       "      <td>Health</td>\n",
       "    </tr>\n",
       "    <tr>\n",
       "      <th>7</th>\n",
       "      <td>Health administration</td>\n",
       "      <td>1242061773</td>\n",
       "      <td>Health administration healthcare administratio...</td>\n",
       "      <td>https://en.wikipedia.org/wiki/Health_administr...</td>\n",
       "      <td>Health</td>\n",
       "    </tr>\n",
       "    <tr>\n",
       "      <th>8</th>\n",
       "      <td>Occupational safety and health</td>\n",
       "      <td>1242481289</td>\n",
       "      <td>Occupational safety and health OSH or occupati...</td>\n",
       "      <td>https://en.wikipedia.org/wiki/Occupational_saf...</td>\n",
       "      <td>Health</td>\n",
       "    </tr>\n",
       "    <tr>\n",
       "      <th>9</th>\n",
       "      <td>Cardinal Health</td>\n",
       "      <td>1245039387</td>\n",
       "      <td>Cardinal Health Inc is an American multination...</td>\n",
       "      <td>https://en.wikipedia.org/wiki/Cardinal_Health</td>\n",
       "      <td>Health</td>\n",
       "    </tr>\n",
       "  </tbody>\n",
       "</table>\n",
       "</div>"
      ],
      "text/plain": [
       "                            title  revision_id  \\\n",
       "0                           Death   1246577393   \n",
       "1                   Health (film)   1243692893   \n",
       "2                     Health care   1246665256   \n",
       "3                   Mental health   1247121910   \n",
       "4       World Health Organization   1242561907   \n",
       "5                   Public health   1247277913   \n",
       "6                   Health system   1235311875   \n",
       "7           Health administration   1242061773   \n",
       "8  Occupational safety and health   1242481289   \n",
       "9                 Cardinal Health   1245039387   \n",
       "\n",
       "                                             summary  \\\n",
       "0  Death is the end of life the irreversible cess...   \n",
       "1  HealtH also known as Health and H E A L T H is...   \n",
       "2  Health care or healthcare is the improvement o...   \n",
       "3  Mental health encompasses emotional psychologi...   \n",
       "4  The World Health Organization WHO is a special...   \n",
       "5  Public health is the science and art of preven...   \n",
       "6  A health system health care system or healthca...   \n",
       "7  Health administration healthcare administratio...   \n",
       "8  Occupational safety and health OSH or occupati...   \n",
       "9  Cardinal Health Inc is an American multination...   \n",
       "\n",
       "                                                 url   topic  \n",
       "0                https://en.wikipedia.org/wiki/Death  Health  \n",
       "1        https://en.wikipedia.org/wiki/Health_(film)  Health  \n",
       "2          https://en.wikipedia.org/wiki/Health_care  Health  \n",
       "3        https://en.wikipedia.org/wiki/Mental_health  Health  \n",
       "4  https://en.wikipedia.org/wiki/World_Health_Org...  Health  \n",
       "5        https://en.wikipedia.org/wiki/Public_health  Health  \n",
       "6        https://en.wikipedia.org/wiki/Health_system  Health  \n",
       "7  https://en.wikipedia.org/wiki/Health_administr...  Health  \n",
       "8  https://en.wikipedia.org/wiki/Occupational_saf...  Health  \n",
       "9      https://en.wikipedia.org/wiki/Cardinal_Health  Health  "
      ]
     },
     "execution_count": 5,
     "metadata": {},
     "output_type": "execute_result"
    }
   ],
   "source": [
    "df = pd.read_json(\"document.json\")\n",
    "df.head(10)"
   ]
  },
  {
   "cell_type": "code",
   "execution_count": null,
   "id": "89ced075-9492-4d6e-894f-f3c361bba6e6",
   "metadata": {},
   "outputs": [],
   "source": [
    "df['topic'].value_counts()"
   ]
  },
  {
   "cell_type": "markdown",
   "id": "3108d0d6-cfd9-415d-9b22-f05d98b54f08",
   "metadata": {},
   "source": [
    "## Filter documents to around 5000 for each categories"
   ]
  },
  {
   "cell_type": "code",
   "execution_count": null,
   "id": "62f17e0a-3580-43d8-942d-740faec67885",
   "metadata": {},
   "outputs": [],
   "source": [
    "original_document = df.to_dict('records')\n",
    "title_list = {}\n",
    "for name in topic_names:\n",
    "    title_list[name] = []\n",
    "for item in original_document:\n",
    "    if len(title_list[item['topic']]) < 6000:\n",
    "        title_list[item['topic']].append(item['title'])\n",
    "title_list[topic_names[0]] = list(set(title_list[topic_names[0]]))\n",
    "\n",
    "for i in range(9):\n",
    "    for j in range(i+1, 10):\n",
    "        title_list[topic_names[j]] = list(set(title_list[topic_names[j]]) - set(title_list[topic_names[i]]))\n",
    "show_count(title_list)"
   ]
  },
  {
   "cell_type": "code",
   "execution_count": null,
   "id": "1c7772e8-249a-4404-ac92-ed1a53882ded",
   "metadata": {
    "scrolled": true
   },
   "outputs": [],
   "source": [
    "filtered_document = []\n",
    "                \n",
    "for item in original_document:\n",
    "    if item['title'] in title_list[item['topic']] and item not in filtered_document:\n",
    "        filtered_document.append(item)\n",
    "len(filtered_document)"
   ]
  },
  {
   "cell_type": "markdown",
   "id": "48fecfac-5cbd-48ad-be02-96888ee547b2",
   "metadata": {},
   "source": [
    "## Saving to a file"
   ]
  },
  {
   "cell_type": "code",
   "execution_count": 10,
   "id": "5f1b2568-0293-40e1-8872-fb3ede0d61e5",
   "metadata": {},
   "outputs": [],
   "source": [
    "with open('document_final.json', 'w') as json_file:\n",
    "    json.dump(filtered_document, json_file, indent=4)"
   ]
  },
  {
   "cell_type": "markdown",
   "id": "aafbc49d-8cfb-4070-9b4b-323628b7fde8",
   "metadata": {},
   "source": [
    "### Cleaning titles, lowercasing titles and summary too"
   ]
  },
  {
   "cell_type": "code",
   "execution_count": 11,
   "id": "2166a5f2-baca-4d9b-8870-0210fd25f165",
   "metadata": {},
   "outputs": [],
   "source": [
    "for item in filtered_document:\n",
    "    item['title'] = clean_text(item['title']).lower()\n",
    "    item['summary'] = item['summary'].lower()\n",
    "\n",
    "with open('document_final.json', 'w') as json_file:\n",
    "    json.dump(filtered_document, json_file, indent=4)"
   ]
  },
  {
   "cell_type": "code",
   "execution_count": null,
   "id": "e543fad8-12f8-4a96-9a82-c8989075ba56",
   "metadata": {},
   "outputs": [],
   "source": [
    "df = pd.read_json(\"document_final.json\")\n",
    "df.head(10)"
   ]
  },
  {
   "cell_type": "code",
   "execution_count": null,
   "id": "9290693b-1dd3-45b4-8786-830e000a2048",
   "metadata": {},
   "outputs": [],
   "source": [
    "df['topic'].value_counts()"
   ]
  },
  {
   "cell_type": "code",
   "execution_count": null,
   "id": "921b871c-027c-4b8c-9912-dd9e5928e2ed",
   "metadata": {},
   "outputs": [],
   "source": []
  }
 ],
 "metadata": {
  "kernelspec": {
   "display_name": "Python 3 (ipykernel)",
   "language": "python",
   "name": "python3"
  },
  "language_info": {
   "codemirror_mode": {
    "name": "ipython",
    "version": 3
   },
   "file_extension": ".py",
   "mimetype": "text/x-python",
   "name": "python",
   "nbconvert_exporter": "python",
   "pygments_lexer": "ipython3",
   "version": "3.11.2"
  }
 },
 "nbformat": 4,
 "nbformat_minor": 5
}
