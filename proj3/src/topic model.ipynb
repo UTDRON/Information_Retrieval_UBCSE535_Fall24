{
 "cells": [
  {
   "cell_type": "code",
   "execution_count": 2,
   "id": "aad10657-caa7-4b08-af19-c399ad9673f7",
   "metadata": {},
   "outputs": [],
   "source": [
    "import pandas as pd\n",
    "from sklearn.model_selection import train_test_split\n",
    "from sklearn.feature_extraction.text import TfidfVectorizer\n",
    "from sklearn.linear_model import LogisticRegression\n",
    "from sklearn.metrics import classification_report\n",
    "from sklearn.preprocessing import LabelEncoder"
   ]
  },
  {
   "cell_type": "code",
   "execution_count": 3,
   "id": "d09e1def-10a1-482a-8c9f-15a321c7f907",
   "metadata": {},
   "outputs": [],
   "source": [
    "data = pd.read_json(\"document_final.json\")\n",
    "descriptions = data[\"summary\"]\n",
    "topics = data[\"topic\"]"
   ]
  },
  {
   "cell_type": "code",
   "execution_count": 28,
   "id": "3eed5f98-3358-4cb0-ac9a-2d35ac5dc339",
   "metadata": {},
   "outputs": [],
   "source": [
    "# Encode target labels\n",
    "label_encoder = LabelEncoder()\n",
    "topics_encoded = label_encoder.fit_transform(topics)\n",
    "\n",
    "# Split the dataset\n",
    "X_train, X_test, y_train, y_test = train_test_split(\n",
    "    descriptions, topics_encoded, test_size=0.2, random_state=42\n",
    ")\n",
    "\n",
    "# Feature extraction using TF-IDF\n",
    "tfidf = TfidfVectorizer(max_features=5000, stop_words=\"english\")\n",
    "X_train_tfidf = tfidf.fit_transform(X_train)\n",
    "X_test_tfidf = tfidf.transform(X_test)"
   ]
  },
  {
   "cell_type": "code",
   "execution_count": 29,
   "id": "c076f810-4e02-46e2-93f1-5055c4d109ee",
   "metadata": {},
   "outputs": [],
   "source": [
    "# Train a Logistic Regression model\n",
    "model = LogisticRegression(random_state=42, max_iter=500)\n",
    "model.fit(X_train_tfidf, y_train)\n",
    "\n",
    "# Make predictions\n",
    "y_pred = model.predict(X_test_tfidf)"
   ]
  },
  {
   "cell_type": "code",
   "execution_count": 30,
   "id": "c0387480-f489-443a-9f6c-36ee1097e52f",
   "metadata": {},
   "outputs": [
    {
     "name": "stdout",
     "output_type": "stream",
     "text": [
      "Classification Report:\n",
      "               precision    recall  f1-score   support\n",
      "\n",
      "      economy       0.90      0.90      0.90      1192\n",
      "    education       0.88      0.86      0.87      1227\n",
      "entertainment       0.84      0.90      0.87      1255\n",
      "  environment       0.92      0.88      0.90      1132\n",
      "         food       0.90      0.88      0.89      1119\n",
      "       health       0.94      0.92      0.93      1821\n",
      "     politics       0.96      0.95      0.96      1290\n",
      "       sports       0.95      0.96      0.96      1831\n",
      "   technology       0.86      0.90      0.88      2145\n",
      "       travel       0.95      0.94      0.94      2098\n",
      "\n",
      "     accuracy                           0.91     15110\n",
      "    macro avg       0.91      0.91      0.91     15110\n",
      " weighted avg       0.91      0.91      0.91     15110\n",
      "\n"
     ]
    }
   ],
   "source": [
    "# Evaluate the model\n",
    "print(\"Classification Report:\")\n",
    "print(classification_report(y_test, y_pred, target_names=label_encoder.classes_))\n"
   ]
  },
  {
   "cell_type": "code",
   "execution_count": 37,
   "id": "4d24500e-f547-4ac7-911a-7ec4c873f690",
   "metadata": {},
   "outputs": [
    {
     "name": "stdout",
     "output_type": "stream",
     "text": [
      "Predicted Topic: technology\n"
     ]
    }
   ],
   "source": [
    "# Use transform to convert new input to the same feature space\n",
    "new_input = pd.core.series.Series([\"university at buffalo\"])\n",
    "# new_input = [\"political situation in nepal\"]\n",
    "new_input_tfidf = tfidf.transform(new_input)  \n",
    "\n",
    "X_test_tfidf = tfidf.transform(X_test)\n",
    "\n",
    "# Predict the topic\n",
    "predicted_topic = model.predict(new_input_tfidf)\n",
    "\n",
    "# Decode the predicted label\n",
    "predicted_topic_label = label_encoder.inverse_transform(predicted_topic)\n",
    "print(\"Predicted Topic:\", predicted_topic_label[0])\n"
   ]
  }
 ],
 "metadata": {
  "kernelspec": {
   "display_name": "Python 3 (ipykernel)",
   "language": "python",
   "name": "python3"
  },
  "language_info": {
   "codemirror_mode": {
    "name": "ipython",
    "version": 3
   },
   "file_extension": ".py",
   "mimetype": "text/x-python",
   "name": "python",
   "nbconvert_exporter": "python",
   "pygments_lexer": "ipython3",
   "version": "3.11.0"
  }
 },
 "nbformat": 4,
 "nbformat_minor": 5
}
