{
 "cells": [
  {
   "cell_type": "code",
   "execution_count": 1,
   "id": "318da9ab-7933-4cf2-b615-e675a98a74bb",
   "metadata": {},
   "outputs": [],
   "source": [
    "import json\n",
    "import os\n",
    "import pysolr\n",
    "import requests\n",
    "import pandas as pd"
   ]
  },
  {
   "cell_type": "code",
   "execution_count": 2,
   "id": "461839ac-ab27-4b33-9cce-39f47caabfc7",
   "metadata": {},
   "outputs": [],
   "source": [
    "CORE_NAME = \"IRF24P1\"\n",
    "VM_IP = \"34.127.2.180\""
   ]
  },
  {
   "cell_type": "code",
   "execution_count": 3,
   "id": "7d57d97b-a6af-4ced-a0eb-c622fb3ea81d",
   "metadata": {},
   "outputs": [],
   "source": [
    "solr = pysolr.Solr(f'http://{VM_IP}:8983/solr/{CORE_NAME}', always_commit=True)"
   ]
  },
  {
   "cell_type": "markdown",
   "id": "3caf3162-286f-4fc4-a3fa-5315d28b297d",
   "metadata": {},
   "source": [
    "### Delete all documents matching query q"
   ]
  },
  {
   "cell_type": "code",
   "execution_count": 13,
   "id": "78fcb738-0c41-4545-9b04-71701e7b7b18",
   "metadata": {},
   "outputs": [
    {
     "data": {
      "text/plain": [
       "'<?xml version=\"1.0\" encoding=\"UTF-8\"?>\\n<response>\\n\\n<lst name=\"responseHeader\">\\n  <int name=\"status\">0</int>\\n  <int name=\"QTime\">30</int>\\n</lst>\\n</response>\\n'"
      ]
     },
     "execution_count": 13,
     "metadata": {},
     "output_type": "execute_result"
    }
   ],
   "source": [
    "solr.delete(q='*:*')"
   ]
  },
  {
   "cell_type": "markdown",
   "id": "f2bad85b-1249-4adf-976d-1bab5ce482b0",
   "metadata": {},
   "source": [
    "### Deleting Fields??"
   ]
  },
  {
   "cell_type": "markdown",
   "id": "778c128c-9b16-4929-ab90-46a7af47665f",
   "metadata": {},
   "source": [
    "#### Couln't delete fields that are referenced by a copy field directive in Solr. A copy field is a mechanism \n",
    "#### that copies the value from one field to another field in Solr which is often used for indexing or \n",
    "#### search optimization."
   ]
  },
  {
   "cell_type": "raw",
   "id": "1b18e020-e9b1-4ebc-b7ec-f21ea19e3db0",
   "metadata": {},
   "source": [
    "data = {\n",
    "    \"delete-field\": [\n",
    "        {\n",
    "            \"name\": \"revision_id\"\n",
    "        },\n",
    "        {\n",
    "            \"name\": \"title\"\n",
    "        },\n",
    "        {\n",
    "            \"name\": \"topic\"\n",
    "        },\n",
    "        {\n",
    "            \"name\": \"url\"\n",
    "        },\n",
    "        {\n",
    "            \"name\": \"summary\"\n",
    "        }\n",
    "    ]\n",
    "}\n",
    "requests.post(f'http://{VM_IP}:8983/solr/{CORE_NAME}/schema', json=data).json()\n",
    "# print(response)"
   ]
  },
  {
   "cell_type": "markdown",
   "id": "eea8204b-f98e-440e-ada1-a47e5825950d",
   "metadata": {},
   "source": [
    "### Listing Copy fields"
   ]
  },
  {
   "cell_type": "code",
   "execution_count": 61,
   "id": "e5312267-a0cc-4522-bc51-2602104791ba",
   "metadata": {},
   "outputs": [
    {
     "name": "stdout",
     "output_type": "stream",
     "text": [
      "{'responseHeader': {'status': 0, 'QTime': 0}, 'copyFields': [{'source': 'summary', 'dest': 'summary_str', 'maxChars': 256}, {'source': 'topic', 'dest': 'topic_str', 'maxChars': 256}, {'source': 'title', 'dest': 'title_str', 'maxChars': 256}, {'source': 'url', 'dest': 'url_str', 'maxChars': 256}, {'source': '_doc', 'dest': '_doc_str', 'maxChars': 256}]}\n"
     ]
    }
   ],
   "source": [
    "response = requests.get(f'http://{VM_IP}:8983/solr/{CORE_NAME}/schema/copyfields')\n",
    "print(response.json())"
   ]
  },
  {
   "cell_type": "markdown",
   "id": "997521a1-c3f2-4208-9462-fad51f84aba1",
   "metadata": {},
   "source": [
    "### Removing Copy Field directives"
   ]
  },
  {
   "cell_type": "code",
   "execution_count": 64,
   "id": "fe358f1f-ad5c-4759-9ceb-7b180fd81c98",
   "metadata": {},
   "outputs": [
    {
     "name": "stdout",
     "output_type": "stream",
     "text": [
      "{'responseHeader': {'status': 0, 'QTime': 431}}\n"
     ]
    }
   ],
   "source": [
    "data = {\n",
    "    \"delete-copy-field\": [\n",
    "        {\n",
    "            \"source\": \"summary\",\n",
    "            \"dest\": \"summary_str\"\n",
    "        },\n",
    "        {\n",
    "            \"source\": \"topic\",\n",
    "            \"dest\": \"topic_str\"\n",
    "        },\n",
    "        {\n",
    "            \"source\": \"url\",\n",
    "            \"dest\": \"url_str\"\n",
    "        },\n",
    "        {\n",
    "            \"source\": \"title\",\n",
    "            \"dest\": \"title_str\"\n",
    "        },\n",
    "        \n",
    "    ]\n",
    "}\n",
    "\n",
    "response = requests.post(f'http://{VM_IP}:8983/solr/{CORE_NAME}/schema', json=data)\n",
    "print(response.json())"
   ]
  },
  {
   "cell_type": "markdown",
   "id": "ed26f0dd-8203-445f-919b-a9c9f9b0fd49",
   "metadata": {},
   "source": [
    "## NOW Deleting Fields"
   ]
  },
  {
   "cell_type": "code",
   "execution_count": 14,
   "id": "dadb6c76-6015-4acd-a9c4-cd25249c994f",
   "metadata": {},
   "outputs": [
    {
     "name": "stdout",
     "output_type": "stream",
     "text": [
      "{'responseHeader': {'status': 0, 'QTime': 363}}\n"
     ]
    }
   ],
   "source": [
    "data = {\n",
    "    \"delete-field\": [\n",
    "        {\"name\": \"revision_id\"},\n",
    "        {\"name\": \"title\"},\n",
    "        {\"name\": \"topic\"},\n",
    "        {\"name\": \"url\"},\n",
    "        {\"name\": \"summary\"}\n",
    "    ]\n",
    "}\n",
    "\n",
    "response = requests.post(f'http://{VM_IP}:8983/solr/{CORE_NAME}/schema', json=data)\n",
    "print(response.json())"
   ]
  },
  {
   "cell_type": "markdown",
   "id": "c3d1e608-22e5-447f-a607-e4493f9a8316",
   "metadata": {},
   "source": [
    "## Adding new fields"
   ]
  },
  {
   "cell_type": "code",
   "execution_count": 15,
   "id": "e9a57020-19f9-43b0-b497-ed90cb3e1969",
   "metadata": {},
   "outputs": [
    {
     "data": {
      "text/plain": [
       "{'responseHeader': {'status': 0, 'QTime': 337}}"
      ]
     },
     "execution_count": 15,
     "metadata": {},
     "output_type": "execute_result"
    }
   ],
   "source": [
    "data = {\n",
    "            \"add-field\": [\n",
    "                {\n",
    "                    \"name\": \"revision_id\",\n",
    "                    \"type\": \"string\"\n",
    "                },\n",
    "                {\n",
    "                    \"name\": \"title\",\n",
    "                    \"type\": \"string\"\n",
    "                },\n",
    "                {\n",
    "                    \"name\": \"summary\",\n",
    "                    \"type\": \"text_en\"\n",
    "                },\n",
    "                {\n",
    "                    \"name\": \"url\",\n",
    "                    \"type\": \"string\"\n",
    "                },\n",
    "                {\n",
    "                    \"name\": \"topic\",\n",
    "                    \"type\": \"string\"\n",
    "                }\n",
    "            ]\n",
    "        }\n",
    "\n",
    "# data = {\n",
    "#             \"add-field\": [\n",
    "#                 {\n",
    "#                     \"name\": \"revision_id\",\n",
    "#                     \"type\": \"text_en\"\n",
    "#                 },\n",
    "#                 {\n",
    "#                     \"name\": \"title\",\n",
    "#                     \"type\": \"text_en\"\n",
    "#                 },\n",
    "#                 {\n",
    "#                     \"name\": \"summary\",\n",
    "#                     \"type\": \"text_en\"\n",
    "#                 },\n",
    "#                 {\n",
    "#                     \"name\": \"url\",\n",
    "#                     \"type\": \"text_en\"\n",
    "#                 },\n",
    "#                 {\n",
    "#                     \"name\": \"topic\",\n",
    "#                     \"type\": \"text_en\"\n",
    "#                 }\n",
    "#             ]\n",
    "#         }\n",
    "requests.post(f'http://{VM_IP}:8983/solr/{CORE_NAME}/schema', json=data).json()"
   ]
  },
  {
   "cell_type": "markdown",
   "id": "88dcc36a-0103-4abc-aeca-2dbfe048fc67",
   "metadata": {},
   "source": [
    "## Adding docs from saved json file"
   ]
  },
  {
   "cell_type": "code",
   "execution_count": 16,
   "id": "c99052d2-358b-49f1-8625-bb4e384029a3",
   "metadata": {},
   "outputs": [
    {
     "data": {
      "text/plain": [
       "'{\\n  \"responseHeader\":{\\n    \"status\":0,\\n    \"QTime\":1683}}\\n'"
      ]
     },
     "execution_count": 16,
     "metadata": {},
     "output_type": "execute_result"
    }
   ],
   "source": [
    "df = pd.read_json(\"document_final.json\")\n",
    "docs = df.to_dict('records')\n",
    "solr.add(docs)"
   ]
  },
  {
   "cell_type": "code",
   "execution_count": null,
   "id": "7d04aaaf-11fc-48b1-9489-ed81362171ab",
   "metadata": {},
   "outputs": [],
   "source": []
  }
 ],
 "metadata": {
  "kernelspec": {
   "display_name": "Python 3 (ipykernel)",
   "language": "python",
   "name": "python3"
  },
  "language_info": {
   "codemirror_mode": {
    "name": "ipython",
    "version": 3
   },
   "file_extension": ".py",
   "mimetype": "text/x-python",
   "name": "python",
   "nbconvert_exporter": "python",
   "pygments_lexer": "ipython3",
   "version": "3.11.0"
  }
 },
 "nbformat": 4,
 "nbformat_minor": 5
}
